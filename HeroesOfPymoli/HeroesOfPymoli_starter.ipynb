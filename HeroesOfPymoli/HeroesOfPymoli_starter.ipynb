{
 "cells": [
  {
   "cell_type": "markdown",
   "metadata": {},
   "source": [
    "### Note\n",
    "* Instructions have been included for each segment. You do not have to follow them exactly, but they are included to help you think through the steps."
   ]
  },
  {
   "cell_type": "code",
   "execution_count": 11,
   "metadata": {},
   "outputs": [
    {
     "name": "stdout",
     "output_type": "stream",
     "text": [
      "<module 'pandas' from 'C:\\\\ProgramData\\\\Anaconda3\\\\lib\\\\site-packages\\\\pandas\\\\__init__.py'>\n"
     ]
    }
   ],
   "source": [
    "# Dependencies and Setup\n",
    "import pandas as pd\n",
    " \n",
    "\n",
    "# File to Load (Remember to Change These)\n",
    "file_to_load = \"Resources/purchase_data.csv\"\n",
    "\n",
    "# Read Purchasing File and store into Pandas data frame\n",
    "purchase_data = pd.read_csv(file_to_load)\n",
    "print(pd)"
   ]
  },
  {
   "cell_type": "markdown",
   "metadata": {},
   "source": [
    "## Player Count"
   ]
  },
  {
   "cell_type": "markdown",
   "metadata": {},
   "source": [
    "* Display the total number of players\n"
   ]
  },
  {
   "cell_type": "code",
   "execution_count": 12,
   "metadata": {},
   "outputs": [
    {
     "data": {
      "text/html": [
       "<div>\n",
       "<style scoped>\n",
       "    .dataframe tbody tr th:only-of-type {\n",
       "        vertical-align: middle;\n",
       "    }\n",
       "\n",
       "    .dataframe tbody tr th {\n",
       "        vertical-align: top;\n",
       "    }\n",
       "\n",
       "    .dataframe thead th {\n",
       "        text-align: right;\n",
       "    }\n",
       "</style>\n",
       "<table border=\"1\" class=\"dataframe\">\n",
       "  <thead>\n",
       "    <tr style=\"text-align: right;\">\n",
       "      <th></th>\n",
       "      <th>Player Count</th>\n",
       "    </tr>\n",
       "  </thead>\n",
       "  <tbody>\n",
       "    <tr>\n",
       "      <th>0</th>\n",
       "      <td>576</td>\n",
       "    </tr>\n",
       "  </tbody>\n",
       "</table>\n",
       "</div>"
      ],
      "text/plain": [
       "   Player Count\n",
       "0           576"
      ]
     },
     "execution_count": 12,
     "metadata": {},
     "output_type": "execute_result"
    }
   ],
   "source": [
    "PlayerCount = len(purchase_data[\"SN\"].unique())\n",
    "playercount_pd = pd.DataFrame({\"Player Count\": [PlayerCount]})\n",
    "playercount_pd"
   ]
  },
  {
   "cell_type": "markdown",
   "metadata": {},
   "source": [
    "## Purchasing Analysis (Total)"
   ]
  },
  {
   "cell_type": "markdown",
   "metadata": {},
   "source": [
    "* Run basic calculations to obtain number of unique items, average price, etc.\n",
    "\n",
    "\n",
    "* Create a summary data frame to hold the results\n",
    "\n",
    "\n",
    "* Optional: give the displayed data cleaner formatting\n",
    "\n",
    "\n",
    "* Display the summary data frame\n"
   ]
  },
  {
   "cell_type": "code",
   "execution_count": 13,
   "metadata": {
    "scrolled": true
   },
   "outputs": [
    {
     "data": {
      "text/html": [
       "<style  type=\"text/css\" >\n",
       "</style><table id=\"T_a1ae638c_72da_11ea_9dca_04ed339101b2\" ><thead>    <tr>        <th class=\"blank level0\" ></th>        <th class=\"col_heading level0 col0\" >Number of Unique Items</th>        <th class=\"col_heading level0 col1\" >Average Price</th>        <th class=\"col_heading level0 col2\" >Number of Purchases</th>        <th class=\"col_heading level0 col3\" >Total Revenue</th>    </tr></thead><tbody>\n",
       "                <tr>\n",
       "                        <th id=\"T_a1ae638c_72da_11ea_9dca_04ed339101b2level0_row0\" class=\"row_heading level0 row0\" >0</th>\n",
       "                        <td id=\"T_a1ae638c_72da_11ea_9dca_04ed339101b2row0_col0\" class=\"data row0 col0\" >183</td>\n",
       "                        <td id=\"T_a1ae638c_72da_11ea_9dca_04ed339101b2row0_col1\" class=\"data row0 col1\" >$3.05</td>\n",
       "                        <td id=\"T_a1ae638c_72da_11ea_9dca_04ed339101b2row0_col2\" class=\"data row0 col2\" >780</td>\n",
       "                        <td id=\"T_a1ae638c_72da_11ea_9dca_04ed339101b2row0_col3\" class=\"data row0 col3\" >$2,379.77</td>\n",
       "            </tr>\n",
       "    </tbody></table>"
      ],
      "text/plain": [
       "<pandas.io.formats.style.Styler at 0x1bf998b4608>"
      ]
     },
     "execution_count": 13,
     "metadata": {},
     "output_type": "execute_result"
    }
   ],
   "source": [
    "# Calculations for unique items, average price, purchase count, and revenue\n",
    "number_of_unique_items = len((purchase_data[\"Item ID\"]).unique())\n",
    "average_price = (purchase_data[\"Price\"]).mean()\n",
    "number_of_purchases = (purchase_data[\"Purchase ID\"]).count()\n",
    "total_revenue = (purchase_data[\"Price\"]).sum()\n",
    "\n",
    "# Create data frame with obtained values\n",
    "summary_df = pd.DataFrame({\"Number of Unique Items\":[number_of_unique_items],\n",
    "                           \"Average Price\":[average_price], \n",
    "                           \"Number of Purchases\": [number_of_purchases], \n",
    "                           \"Total Revenue\": [total_revenue]})\n",
    "\n",
    "# Format with currency style\n",
    "summary_df.style.format({'Average Price':\"${:,.2f}\",\n",
    "                         'Total Revenue': '${:,.2f}'})"
   ]
  },
  {
   "cell_type": "markdown",
   "metadata": {},
   "source": [
    "## Gender Demographics"
   ]
  },
  {
   "cell_type": "markdown",
   "metadata": {},
   "source": [
    "* Percentage and Count of Male Players\n",
    "\n",
    "\n",
    "* Percentage and Count of Female Players\n",
    "\n",
    "\n",
    "* Percentage and Count of Other / Non-Disclosed\n",
    "\n",
    "\n"
   ]
  },
  {
   "cell_type": "code",
   "execution_count": 14,
   "metadata": {},
   "outputs": [
    {
     "data": {
      "text/html": [
       "<div>\n",
       "<style scoped>\n",
       "    .dataframe tbody tr th:only-of-type {\n",
       "        vertical-align: middle;\n",
       "    }\n",
       "\n",
       "    .dataframe tbody tr th {\n",
       "        vertical-align: top;\n",
       "    }\n",
       "\n",
       "    .dataframe thead th {\n",
       "        text-align: right;\n",
       "    }\n",
       "</style>\n",
       "<table border=\"1\" class=\"dataframe\">\n",
       "  <thead>\n",
       "    <tr style=\"text-align: right;\">\n",
       "      <th></th>\n",
       "      <th></th>\n",
       "      <th>Percentage of Players</th>\n",
       "      <th>Total Count</th>\n",
       "    </tr>\n",
       "  </thead>\n",
       "  <tbody>\n",
       "    <tr>\n",
       "      <th>0</th>\n",
       "      <td>Male</td>\n",
       "      <td>83.59%</td>\n",
       "      <td>652</td>\n",
       "    </tr>\n",
       "    <tr>\n",
       "      <th>1</th>\n",
       "      <td>Female</td>\n",
       "      <td>14.49%</td>\n",
       "      <td>113</td>\n",
       "    </tr>\n",
       "    <tr>\n",
       "      <th>2</th>\n",
       "      <td>Other/Non-Disclosed</td>\n",
       "      <td>1.92%</td>\n",
       "      <td>15</td>\n",
       "    </tr>\n",
       "  </tbody>\n",
       "</table>\n",
       "</div>"
      ],
      "text/plain": [
       "                       Percentage of Players  Total Count\n",
       "0                 Male                83.59%          652\n",
       "1               Female                14.49%          113\n",
       "2  Other/Non-Disclosed                 1.92%           15"
      ]
     },
     "execution_count": 14,
     "metadata": {},
     "output_type": "execute_result"
    }
   ],
   "source": [
    "CountMale=purchase_data[\"Gender\"].value_counts()['Male']\n",
    "CountFemale=purchase_data[\"Gender\"].value_counts()['Female']\n",
    "CountOther=purchase_data[\"Gender\"].value_counts()['Other / Non-Disclosed']\n",
    "TotalGender=purchase_data[\"Gender\"].count()\n",
    "PercentMale=(CountMale/TotalGender)*100\n",
    "PercentFemale=(CountFemale/TotalGender)*100\n",
    "PercentOther=(CountOther/TotalGender)*100\n",
    "gender_pd=pd.DataFrame({\"\": ['Male', 'Female', 'Other/Non-Disclosed'],\n",
    "                            \"Percentage of Players\": [PercentMale, PercentFemale, PercentOther],\n",
    "                            \"Total Count\": [CountMale, CountFemale, CountOther]})\n",
    "gender_pd[\"Percentage of Players\"]=gender_pd[\"Percentage of Players\"].map(\"{:.2f}%\".format)\n",
    "gender_pd\n"
   ]
  },
  {
   "cell_type": "markdown",
   "metadata": {},
   "source": [
    "\n",
    "# Purchasing Analysis (Gender)"
   ]
  },
  {
   "cell_type": "markdown",
   "metadata": {},
   "source": [
    "* Run basic calculations to obtain purchase count, avg. purchase price, avg. purchase total per person etc. by gender\n",
    "\n",
    "\n",
    "\n",
    "\n",
    "* Create a summary data frame to hold the results\n",
    "\n",
    "\n",
    "* Optional: give the displayed data cleaner formatting\n",
    "\n",
    "\n",
    "* Display the summary data frame"
   ]
  },
  {
   "cell_type": "code",
   "execution_count": 20,
   "metadata": {},
   "outputs": [
    {
     "data": {
      "text/html": [
       "<style  type=\"text/css\" >\n",
       "</style><table id=\"T_3e5c9066_72dc_11ea_9c1a_04ed339101b2\" ><thead>    <tr>        <th class=\"blank level0\" ></th>        <th class=\"col_heading level0 col0\" >Purchase Count</th>        <th class=\"col_heading level0 col1\" >Average Purchase Price</th>        <th class=\"col_heading level0 col2\" >Average Purchase Value</th>        <th class=\"col_heading level0 col3\" >Avg Purchase Total per Person</th>    </tr>    <tr>        <th class=\"index_name level0\" >Gender</th>        <th class=\"blank\" ></th>        <th class=\"blank\" ></th>        <th class=\"blank\" ></th>        <th class=\"blank\" ></th>    </tr></thead><tbody>\n",
       "                <tr>\n",
       "                        <th id=\"T_3e5c9066_72dc_11ea_9c1a_04ed339101b2level0_row0\" class=\"row_heading level0 row0\" >Female</th>\n",
       "                        <td id=\"T_3e5c9066_72dc_11ea_9c1a_04ed339101b2row0_col0\" class=\"data row0 col0\" >113</td>\n",
       "                        <td id=\"T_3e5c9066_72dc_11ea_9c1a_04ed339101b2row0_col1\" class=\"data row0 col1\" >$3.20</td>\n",
       "                        <td id=\"T_3e5c9066_72dc_11ea_9c1a_04ed339101b2row0_col2\" class=\"data row0 col2\" >$361.94</td>\n",
       "                        <td id=\"T_3e5c9066_72dc_11ea_9c1a_04ed339101b2row0_col3\" class=\"data row0 col3\" >$0.46</td>\n",
       "            </tr>\n",
       "            <tr>\n",
       "                        <th id=\"T_3e5c9066_72dc_11ea_9c1a_04ed339101b2level0_row1\" class=\"row_heading level0 row1\" >Male</th>\n",
       "                        <td id=\"T_3e5c9066_72dc_11ea_9c1a_04ed339101b2row1_col0\" class=\"data row1 col0\" >652</td>\n",
       "                        <td id=\"T_3e5c9066_72dc_11ea_9c1a_04ed339101b2row1_col1\" class=\"data row1 col1\" >$3.02</td>\n",
       "                        <td id=\"T_3e5c9066_72dc_11ea_9c1a_04ed339101b2row1_col2\" class=\"data row1 col2\" >$1,967.64</td>\n",
       "                        <td id=\"T_3e5c9066_72dc_11ea_9c1a_04ed339101b2row1_col3\" class=\"data row1 col3\" >$2.52</td>\n",
       "            </tr>\n",
       "            <tr>\n",
       "                        <th id=\"T_3e5c9066_72dc_11ea_9c1a_04ed339101b2level0_row2\" class=\"row_heading level0 row2\" >Other / Non-Disclosed</th>\n",
       "                        <td id=\"T_3e5c9066_72dc_11ea_9c1a_04ed339101b2row2_col0\" class=\"data row2 col0\" >15</td>\n",
       "                        <td id=\"T_3e5c9066_72dc_11ea_9c1a_04ed339101b2row2_col1\" class=\"data row2 col1\" >$3.35</td>\n",
       "                        <td id=\"T_3e5c9066_72dc_11ea_9c1a_04ed339101b2row2_col2\" class=\"data row2 col2\" >$50.19</td>\n",
       "                        <td id=\"T_3e5c9066_72dc_11ea_9c1a_04ed339101b2row2_col3\" class=\"data row2 col3\" >$0.06</td>\n",
       "            </tr>\n",
       "    </tbody></table>"
      ],
      "text/plain": [
       "<pandas.io.formats.style.Styler at 0x1bf9b7c8448>"
      ]
     },
     "execution_count": 20,
     "metadata": {},
     "output_type": "execute_result"
    }
   ],
   "source": [
    "\n",
    "#gender groupby \n",
    "gender_stats=purchase_data.groupby([\"Gender\"])\n",
    "#Count the total purchases by gender\n",
    "purchase_count = gender_stats[\"Purchase ID\"].count()\n",
    "\n",
    "# Average purchase prices by gender\n",
    "avg_purchase_price = gender_stats[\"Price\"].mean()\n",
    "\n",
    "# Average purchase total by gender \n",
    "avg_purchase_total = gender_stats[\"Price\"].sum()\n",
    "\n",
    "#Average purchase total by gender divivded by purchase count by unique shoppers\n",
    "avg_purchase_per_person = avg_purchase_total/TotalGender\n",
    "\n",
    "# Create data frame with obtained values \n",
    "gender_demographics = pd.DataFrame({\"Purchase Count\": purchase_count, \n",
    "                                    \"Average Purchase Price\": avg_purchase_price,\n",
    "                                    \"Average Purchase Value\":avg_purchase_total,\n",
    "                                    \"Avg Purchase Total per Person\": avg_purchase_per_person})\n",
    "\n",
    "# Provide index in top left as \"Gender\"\n",
    "gender_demographics.index.name = \"Gender\"\n",
    "\n",
    "# Format with currency style\n",
    "gender_demographics.style.format({\"Average Purchase Value\":\"${:,.2f}\",\n",
    "                                  \"Average Purchase Price\":\"${:,.2f}\",\n",
    "                                  \"Avg Purchase Total per Person\":\"${:,.2f}\"})\n",
    "\n",
    "\n"
   ]
  },
  {
   "cell_type": "markdown",
   "metadata": {},
   "source": [
    "## Age Demographics"
   ]
  },
  {
   "cell_type": "markdown",
   "metadata": {},
   "source": [
    "* Establish bins for ages\n",
    "\n",
    "\n",
    "* Categorize the existing players using the age bins. Hint: use pd.cut()\n",
    "\n",
    "\n",
    "* Calculate the numbers and percentages by age group\n",
    "\n",
    "\n",
    "* Create a summary data frame to hold the results\n",
    "\n",
    "\n",
    "* Optional: round the percentage column to two decimal points\n",
    "\n",
    "\n",
    "* Display Age Demographics Table\n"
   ]
  },
  {
   "cell_type": "code",
   "execution_count": 26,
   "metadata": {},
   "outputs": [
    {
     "data": {
      "text/html": [
       "<style  type=\"text/css\" >\n",
       "</style><table id=\"T_ea41170a_72dc_11ea_9fb2_04ed339101b2\" ><thead>    <tr>        <th class=\"blank level0\" ></th>        <th class=\"col_heading level0 col0\" >Percentage of Players</th>        <th class=\"col_heading level0 col1\" >Total Count</th>    </tr></thead><tbody>\n",
       "                <tr>\n",
       "                        <th id=\"T_ea41170a_72dc_11ea_9fb2_04ed339101b2level0_row0\" class=\"row_heading level0 row0\" ><10</th>\n",
       "                        <td id=\"T_ea41170a_72dc_11ea_9fb2_04ed339101b2row0_col0\" class=\"data row0 col0\" >2.95</td>\n",
       "                        <td id=\"T_ea41170a_72dc_11ea_9fb2_04ed339101b2row0_col1\" class=\"data row0 col1\" >17</td>\n",
       "            </tr>\n",
       "            <tr>\n",
       "                        <th id=\"T_ea41170a_72dc_11ea_9fb2_04ed339101b2level0_row1\" class=\"row_heading level0 row1\" >10-14</th>\n",
       "                        <td id=\"T_ea41170a_72dc_11ea_9fb2_04ed339101b2row1_col0\" class=\"data row1 col0\" >3.82</td>\n",
       "                        <td id=\"T_ea41170a_72dc_11ea_9fb2_04ed339101b2row1_col1\" class=\"data row1 col1\" >22</td>\n",
       "            </tr>\n",
       "            <tr>\n",
       "                        <th id=\"T_ea41170a_72dc_11ea_9fb2_04ed339101b2level0_row2\" class=\"row_heading level0 row2\" >15-19</th>\n",
       "                        <td id=\"T_ea41170a_72dc_11ea_9fb2_04ed339101b2row2_col0\" class=\"data row2 col0\" >18.58</td>\n",
       "                        <td id=\"T_ea41170a_72dc_11ea_9fb2_04ed339101b2row2_col1\" class=\"data row2 col1\" >107</td>\n",
       "            </tr>\n",
       "            <tr>\n",
       "                        <th id=\"T_ea41170a_72dc_11ea_9fb2_04ed339101b2level0_row3\" class=\"row_heading level0 row3\" >20-24</th>\n",
       "                        <td id=\"T_ea41170a_72dc_11ea_9fb2_04ed339101b2row3_col0\" class=\"data row3 col0\" >44.79</td>\n",
       "                        <td id=\"T_ea41170a_72dc_11ea_9fb2_04ed339101b2row3_col1\" class=\"data row3 col1\" >258</td>\n",
       "            </tr>\n",
       "            <tr>\n",
       "                        <th id=\"T_ea41170a_72dc_11ea_9fb2_04ed339101b2level0_row4\" class=\"row_heading level0 row4\" >25-29</th>\n",
       "                        <td id=\"T_ea41170a_72dc_11ea_9fb2_04ed339101b2row4_col0\" class=\"data row4 col0\" >13.37</td>\n",
       "                        <td id=\"T_ea41170a_72dc_11ea_9fb2_04ed339101b2row4_col1\" class=\"data row4 col1\" >77</td>\n",
       "            </tr>\n",
       "            <tr>\n",
       "                        <th id=\"T_ea41170a_72dc_11ea_9fb2_04ed339101b2level0_row5\" class=\"row_heading level0 row5\" >30-34</th>\n",
       "                        <td id=\"T_ea41170a_72dc_11ea_9fb2_04ed339101b2row5_col0\" class=\"data row5 col0\" >9.03</td>\n",
       "                        <td id=\"T_ea41170a_72dc_11ea_9fb2_04ed339101b2row5_col1\" class=\"data row5 col1\" >52</td>\n",
       "            </tr>\n",
       "            <tr>\n",
       "                        <th id=\"T_ea41170a_72dc_11ea_9fb2_04ed339101b2level0_row6\" class=\"row_heading level0 row6\" >35-39</th>\n",
       "                        <td id=\"T_ea41170a_72dc_11ea_9fb2_04ed339101b2row6_col0\" class=\"data row6 col0\" >5.38</td>\n",
       "                        <td id=\"T_ea41170a_72dc_11ea_9fb2_04ed339101b2row6_col1\" class=\"data row6 col1\" >31</td>\n",
       "            </tr>\n",
       "            <tr>\n",
       "                        <th id=\"T_ea41170a_72dc_11ea_9fb2_04ed339101b2level0_row7\" class=\"row_heading level0 row7\" >40+</th>\n",
       "                        <td id=\"T_ea41170a_72dc_11ea_9fb2_04ed339101b2row7_col0\" class=\"data row7 col0\" >2.08</td>\n",
       "                        <td id=\"T_ea41170a_72dc_11ea_9fb2_04ed339101b2row7_col1\" class=\"data row7 col1\" >12</td>\n",
       "            </tr>\n",
       "    </tbody></table>"
      ],
      "text/plain": [
       "<pandas.io.formats.style.Styler at 0x1bf9c265388>"
      ]
     },
     "execution_count": 26,
     "metadata": {},
     "output_type": "execute_result"
    }
   ],
   "source": [
    "# Establish bins for ages\n",
    "age_bins = [0, 9.90, 14.90, 19.90, 24.90, 29.90, 34.90, 39.90, 99999]\n",
    "group_names = [\"<10\", \"10-14\", \"15-19\", \"20-24\", \"25-29\", \"30-34\", \"35-39\", \"40+\"]\n",
    "\n",
    "# Segment and sort age values into bins established above\n",
    "purchase_data[\"Age Group\"] = pd.cut(purchase_data[\"Age\"],age_bins, labels=group_names)\n",
    "purchase_data\n",
    "\n",
    "# Create new data frame with the added \"Age Group\" and group it\n",
    "age_grouped = purchase_data.groupby(\"Age Group\")\n",
    "\n",
    "# Count total players by age category\n",
    "total_count_age = age_grouped[\"SN\"].nunique()\n",
    "\n",
    "# Calculate percentages by age category \n",
    "percentage_by_age =(total_count_age/PlayerCount) * 100\n",
    "\n",
    "# Create data frame with obtained values\n",
    "age_demographics = pd.DataFrame({\"Percentage of Players\": percentage_by_age, \"Total Count\": total_count_age})\n",
    "\n",
    "# Format the data frame with no index name in the corner\n",
    "age_demographics.index.name = None\n",
    "\n",
    "# Format percentage with two decimal places \n",
    "age_demographics.style.format({\"Percentage of Players\":\"{:,.2f}\"})\n",
    "\n",
    "\n"
   ]
  },
  {
   "cell_type": "markdown",
   "metadata": {},
   "source": [
    "## Purchasing Analysis (Age)"
   ]
  },
  {
   "cell_type": "markdown",
   "metadata": {},
   "source": [
    "* Bin the purchase_data data frame by age\n",
    "\n",
    "\n",
    "* Run basic calculations to obtain purchase count, avg. purchase price, avg. purchase total per person etc. in the table below\n",
    "\n",
    "\n",
    "* Create a summary data frame to hold the results\n",
    "\n",
    "\n",
    "* Optional: give the displayed data cleaner formatting\n",
    "\n",
    "\n",
    "* Display the summary data frame"
   ]
  },
  {
   "cell_type": "code",
   "execution_count": 29,
   "metadata": {},
   "outputs": [
    {
     "data": {
      "text/html": [
       "<style  type=\"text/css\" >\n",
       "</style><table id=\"T_a85f52b4_72dd_11ea_8154_04ed339101b2\" ><thead>    <tr>        <th class=\"blank level0\" ></th>        <th class=\"col_heading level0 col0\" >Purchase Count</th>        <th class=\"col_heading level0 col1\" >Total Purchase Value</th>        <th class=\"col_heading level0 col2\" >Average Purchase Price</th>        <th class=\"col_heading level0 col3\" >Average Purchase Total per Person</th>    </tr></thead><tbody>\n",
       "                <tr>\n",
       "                        <th id=\"T_a85f52b4_72dd_11ea_8154_04ed339101b2level0_row0\" class=\"row_heading level0 row0\" ><10</th>\n",
       "                        <td id=\"T_a85f52b4_72dd_11ea_8154_04ed339101b2row0_col0\" class=\"data row0 col0\" >23</td>\n",
       "                        <td id=\"T_a85f52b4_72dd_11ea_8154_04ed339101b2row0_col1\" class=\"data row0 col1\" >$77.13</td>\n",
       "                        <td id=\"T_a85f52b4_72dd_11ea_8154_04ed339101b2row0_col2\" class=\"data row0 col2\" >$3.35</td>\n",
       "                        <td id=\"T_a85f52b4_72dd_11ea_8154_04ed339101b2row0_col3\" class=\"data row0 col3\" >$4.54</td>\n",
       "            </tr>\n",
       "            <tr>\n",
       "                        <th id=\"T_a85f52b4_72dd_11ea_8154_04ed339101b2level0_row1\" class=\"row_heading level0 row1\" >10-14</th>\n",
       "                        <td id=\"T_a85f52b4_72dd_11ea_8154_04ed339101b2row1_col0\" class=\"data row1 col0\" >28</td>\n",
       "                        <td id=\"T_a85f52b4_72dd_11ea_8154_04ed339101b2row1_col1\" class=\"data row1 col1\" >$82.78</td>\n",
       "                        <td id=\"T_a85f52b4_72dd_11ea_8154_04ed339101b2row1_col2\" class=\"data row1 col2\" >$2.96</td>\n",
       "                        <td id=\"T_a85f52b4_72dd_11ea_8154_04ed339101b2row1_col3\" class=\"data row1 col3\" >$3.76</td>\n",
       "            </tr>\n",
       "            <tr>\n",
       "                        <th id=\"T_a85f52b4_72dd_11ea_8154_04ed339101b2level0_row2\" class=\"row_heading level0 row2\" >15-19</th>\n",
       "                        <td id=\"T_a85f52b4_72dd_11ea_8154_04ed339101b2row2_col0\" class=\"data row2 col0\" >136</td>\n",
       "                        <td id=\"T_a85f52b4_72dd_11ea_8154_04ed339101b2row2_col1\" class=\"data row2 col1\" >$412.89</td>\n",
       "                        <td id=\"T_a85f52b4_72dd_11ea_8154_04ed339101b2row2_col2\" class=\"data row2 col2\" >$3.04</td>\n",
       "                        <td id=\"T_a85f52b4_72dd_11ea_8154_04ed339101b2row2_col3\" class=\"data row2 col3\" >$3.86</td>\n",
       "            </tr>\n",
       "            <tr>\n",
       "                        <th id=\"T_a85f52b4_72dd_11ea_8154_04ed339101b2level0_row3\" class=\"row_heading level0 row3\" >20-24</th>\n",
       "                        <td id=\"T_a85f52b4_72dd_11ea_8154_04ed339101b2row3_col0\" class=\"data row3 col0\" >365</td>\n",
       "                        <td id=\"T_a85f52b4_72dd_11ea_8154_04ed339101b2row3_col1\" class=\"data row3 col1\" >$1,114.06</td>\n",
       "                        <td id=\"T_a85f52b4_72dd_11ea_8154_04ed339101b2row3_col2\" class=\"data row3 col2\" >$3.05</td>\n",
       "                        <td id=\"T_a85f52b4_72dd_11ea_8154_04ed339101b2row3_col3\" class=\"data row3 col3\" >$4.32</td>\n",
       "            </tr>\n",
       "            <tr>\n",
       "                        <th id=\"T_a85f52b4_72dd_11ea_8154_04ed339101b2level0_row4\" class=\"row_heading level0 row4\" >25-29</th>\n",
       "                        <td id=\"T_a85f52b4_72dd_11ea_8154_04ed339101b2row4_col0\" class=\"data row4 col0\" >101</td>\n",
       "                        <td id=\"T_a85f52b4_72dd_11ea_8154_04ed339101b2row4_col1\" class=\"data row4 col1\" >$293.00</td>\n",
       "                        <td id=\"T_a85f52b4_72dd_11ea_8154_04ed339101b2row4_col2\" class=\"data row4 col2\" >$2.90</td>\n",
       "                        <td id=\"T_a85f52b4_72dd_11ea_8154_04ed339101b2row4_col3\" class=\"data row4 col3\" >$3.81</td>\n",
       "            </tr>\n",
       "            <tr>\n",
       "                        <th id=\"T_a85f52b4_72dd_11ea_8154_04ed339101b2level0_row5\" class=\"row_heading level0 row5\" >30-34</th>\n",
       "                        <td id=\"T_a85f52b4_72dd_11ea_8154_04ed339101b2row5_col0\" class=\"data row5 col0\" >73</td>\n",
       "                        <td id=\"T_a85f52b4_72dd_11ea_8154_04ed339101b2row5_col1\" class=\"data row5 col1\" >$214.00</td>\n",
       "                        <td id=\"T_a85f52b4_72dd_11ea_8154_04ed339101b2row5_col2\" class=\"data row5 col2\" >$2.93</td>\n",
       "                        <td id=\"T_a85f52b4_72dd_11ea_8154_04ed339101b2row5_col3\" class=\"data row5 col3\" >$4.12</td>\n",
       "            </tr>\n",
       "            <tr>\n",
       "                        <th id=\"T_a85f52b4_72dd_11ea_8154_04ed339101b2level0_row6\" class=\"row_heading level0 row6\" >35-39</th>\n",
       "                        <td id=\"T_a85f52b4_72dd_11ea_8154_04ed339101b2row6_col0\" class=\"data row6 col0\" >41</td>\n",
       "                        <td id=\"T_a85f52b4_72dd_11ea_8154_04ed339101b2row6_col1\" class=\"data row6 col1\" >$147.67</td>\n",
       "                        <td id=\"T_a85f52b4_72dd_11ea_8154_04ed339101b2row6_col2\" class=\"data row6 col2\" >$3.60</td>\n",
       "                        <td id=\"T_a85f52b4_72dd_11ea_8154_04ed339101b2row6_col3\" class=\"data row6 col3\" >$4.76</td>\n",
       "            </tr>\n",
       "            <tr>\n",
       "                        <th id=\"T_a85f52b4_72dd_11ea_8154_04ed339101b2level0_row7\" class=\"row_heading level0 row7\" >40+</th>\n",
       "                        <td id=\"T_a85f52b4_72dd_11ea_8154_04ed339101b2row7_col0\" class=\"data row7 col0\" >13</td>\n",
       "                        <td id=\"T_a85f52b4_72dd_11ea_8154_04ed339101b2row7_col1\" class=\"data row7 col1\" >$38.24</td>\n",
       "                        <td id=\"T_a85f52b4_72dd_11ea_8154_04ed339101b2row7_col2\" class=\"data row7 col2\" >$2.94</td>\n",
       "                        <td id=\"T_a85f52b4_72dd_11ea_8154_04ed339101b2row7_col3\" class=\"data row7 col3\" >$3.19</td>\n",
       "            </tr>\n",
       "    </tbody></table>"
      ],
      "text/plain": [
       "<pandas.io.formats.style.Styler at 0x1bf9c1f3ec8>"
      ]
     },
     "execution_count": 29,
     "metadata": {},
     "output_type": "execute_result"
    }
   ],
   "source": [
    "# Count purchases by age group\n",
    "purchase_count_age = age_grouped[\"Purchase ID\"].count()\n",
    "\n",
    "# Obtain average purchase price by age group \n",
    "avg_purchase_price_age = age_grouped[\"Price\"].mean()\n",
    "\n",
    "# Calculate total purchase value by age group \n",
    "total_purchase_value = age_grouped[\"Price\"].sum()\n",
    "\n",
    "# Calculate the average purchase per person in the age group \n",
    "avg_purchase_per_person_age = total_purchase_value/total_count_age\n",
    "\n",
    "# Create data frame with obtained values\n",
    "age_demographics = pd.DataFrame({\"Purchase Count\": purchase_count_age,\n",
    "                                 \"Total Purchase Value\":total_purchase_value,\n",
    "                                 \"Average Purchase Price\": avg_purchase_price_age,\n",
    "                                 \"Average Purchase Total per Person\": avg_purchase_per_person_age})\n",
    "\n",
    "# Format the data frame with no index name in the corner\n",
    "age_demographics.index.name = None\n",
    "\n",
    "# Format with currency style\n",
    "age_demographics.style.format({\"Average Purchase Price\":\"${:,.2f}\",\n",
    "                               \"Total Purchase Value\":\"${:,.2f}\",\n",
    "                               \"Average Purchase Total per Person\":\"${:,.2f}\"})"
   ]
  },
  {
   "cell_type": "markdown",
   "metadata": {},
   "source": [
    "## Top Spenders"
   ]
  },
  {
   "cell_type": "markdown",
   "metadata": {},
   "source": [
    "* Run basic calculations to obtain the results in the table below\n",
    "\n",
    "\n",
    "* Create a summary data frame to hold the results\n",
    "\n",
    "\n",
    "* Sort the total purchase value column in descending order\n",
    "\n",
    "\n",
    "* Optional: give the displayed data cleaner formatting\n",
    "\n",
    "\n",
    "* Display a preview of the summary data frame\n",
    "\n"
   ]
  },
  {
   "cell_type": "code",
   "execution_count": 30,
   "metadata": {},
   "outputs": [
    {
     "data": {
      "text/html": [
       "<style  type=\"text/css\" >\n",
       "</style><table id=\"T_ae2de062_72dd_11ea_980e_04ed339101b2\" ><thead>    <tr>        <th class=\"blank level0\" ></th>        <th class=\"col_heading level0 col0\" >Purchase Count</th>        <th class=\"col_heading level0 col1\" >Average Purchase Price</th>        <th class=\"col_heading level0 col2\" >Total Purchase Value</th>    </tr>    <tr>        <th class=\"index_name level0\" >SN</th>        <th class=\"blank\" ></th>        <th class=\"blank\" ></th>        <th class=\"blank\" ></th>    </tr></thead><tbody>\n",
       "                <tr>\n",
       "                        <th id=\"T_ae2de062_72dd_11ea_980e_04ed339101b2level0_row0\" class=\"row_heading level0 row0\" >Lisosia93</th>\n",
       "                        <td id=\"T_ae2de062_72dd_11ea_980e_04ed339101b2row0_col0\" class=\"data row0 col0\" >5</td>\n",
       "                        <td id=\"T_ae2de062_72dd_11ea_980e_04ed339101b2row0_col1\" class=\"data row0 col1\" >$3.79</td>\n",
       "                        <td id=\"T_ae2de062_72dd_11ea_980e_04ed339101b2row0_col2\" class=\"data row0 col2\" >$18.96</td>\n",
       "            </tr>\n",
       "            <tr>\n",
       "                        <th id=\"T_ae2de062_72dd_11ea_980e_04ed339101b2level0_row1\" class=\"row_heading level0 row1\" >Idastidru52</th>\n",
       "                        <td id=\"T_ae2de062_72dd_11ea_980e_04ed339101b2row1_col0\" class=\"data row1 col0\" >4</td>\n",
       "                        <td id=\"T_ae2de062_72dd_11ea_980e_04ed339101b2row1_col1\" class=\"data row1 col1\" >$3.86</td>\n",
       "                        <td id=\"T_ae2de062_72dd_11ea_980e_04ed339101b2row1_col2\" class=\"data row1 col2\" >$15.45</td>\n",
       "            </tr>\n",
       "            <tr>\n",
       "                        <th id=\"T_ae2de062_72dd_11ea_980e_04ed339101b2level0_row2\" class=\"row_heading level0 row2\" >Chamjask73</th>\n",
       "                        <td id=\"T_ae2de062_72dd_11ea_980e_04ed339101b2row2_col0\" class=\"data row2 col0\" >3</td>\n",
       "                        <td id=\"T_ae2de062_72dd_11ea_980e_04ed339101b2row2_col1\" class=\"data row2 col1\" >$4.61</td>\n",
       "                        <td id=\"T_ae2de062_72dd_11ea_980e_04ed339101b2row2_col2\" class=\"data row2 col2\" >$13.83</td>\n",
       "            </tr>\n",
       "            <tr>\n",
       "                        <th id=\"T_ae2de062_72dd_11ea_980e_04ed339101b2level0_row3\" class=\"row_heading level0 row3\" >Iral74</th>\n",
       "                        <td id=\"T_ae2de062_72dd_11ea_980e_04ed339101b2row3_col0\" class=\"data row3 col0\" >4</td>\n",
       "                        <td id=\"T_ae2de062_72dd_11ea_980e_04ed339101b2row3_col1\" class=\"data row3 col1\" >$3.40</td>\n",
       "                        <td id=\"T_ae2de062_72dd_11ea_980e_04ed339101b2row3_col2\" class=\"data row3 col2\" >$13.62</td>\n",
       "            </tr>\n",
       "            <tr>\n",
       "                        <th id=\"T_ae2de062_72dd_11ea_980e_04ed339101b2level0_row4\" class=\"row_heading level0 row4\" >Iskadarya95</th>\n",
       "                        <td id=\"T_ae2de062_72dd_11ea_980e_04ed339101b2row4_col0\" class=\"data row4 col0\" >3</td>\n",
       "                        <td id=\"T_ae2de062_72dd_11ea_980e_04ed339101b2row4_col1\" class=\"data row4 col1\" >$4.37</td>\n",
       "                        <td id=\"T_ae2de062_72dd_11ea_980e_04ed339101b2row4_col2\" class=\"data row4 col2\" >$13.10</td>\n",
       "            </tr>\n",
       "    </tbody></table>"
      ],
      "text/plain": [
       "<pandas.io.formats.style.Styler at 0x1bf9c1ec108>"
      ]
     },
     "execution_count": 30,
     "metadata": {},
     "output_type": "execute_result"
    }
   ],
   "source": [
    "# Group purchase data by screen names\n",
    "spender_stats = purchase_data.groupby(\"SN\")\n",
    "\n",
    "# Count the total purchases by name\n",
    "purchase_count_spender = spender_stats[\"Purchase ID\"].count()\n",
    "\n",
    "# Calculate the average purchase by name \n",
    "avg_purchase_price_spender = spender_stats[\"Price\"].mean()\n",
    "\n",
    "# Calculate purchase total \n",
    "purchase_total_spender = spender_stats[\"Price\"].sum()\n",
    "\n",
    "# Create data frame with obtained values\n",
    "top_spenders = pd.DataFrame({\"Purchase Count\": purchase_count_spender,\n",
    "                             \"Average Purchase Price\": avg_purchase_price_spender,\n",
    "                             \"Total Purchase Value\":purchase_total_spender})\n",
    "\n",
    "# Sort in descending order to obtain top 5 spender names \n",
    "formatted_spenders = top_spenders.sort_values([\"Total Purchase Value\"], ascending=False).head()\n",
    "\n",
    "# Format with currency style\n",
    "formatted_spenders.style.format({\"Average Purchase Total\":\"${:,.2f}\",\n",
    "                                 \"Average Purchase Price\":\"${:,.2f}\", \n",
    "                                 \"Total Purchase Value\":\"${:,.2f}\"})"
   ]
  },
  {
   "cell_type": "markdown",
   "metadata": {},
   "source": [
    "## Most Popular Items"
   ]
  },
  {
   "cell_type": "markdown",
   "metadata": {},
   "source": [
    "* Retrieve the Item ID, Item Name, and Item Price columns\n",
    "\n",
    "\n",
    "* Group by Item ID and Item Name. Perform calculations to obtain purchase count, item price, and total purchase value\n",
    "\n",
    "\n",
    "* Create a summary data frame to hold the results\n",
    "\n",
    "\n",
    "* Sort the purchase count column in descending order\n",
    "\n",
    "\n",
    "* Optional: give the displayed data cleaner formatting\n",
    "\n",
    "\n",
    "* Display a preview of the summary data frame\n",
    "\n"
   ]
  },
  {
   "cell_type": "code",
   "execution_count": 32,
   "metadata": {},
   "outputs": [
    {
     "data": {
      "text/html": [
       "<style  type=\"text/css\" >\n",
       "</style><table id=\"T_61a8df02_72de_11ea_8a29_04ed339101b2\" ><thead>    <tr>        <th class=\"blank\" ></th>        <th class=\"blank level0\" ></th>        <th class=\"col_heading level0 col0\" >Purchase Count</th>        <th class=\"col_heading level0 col1\" >Item Price</th>        <th class=\"col_heading level0 col2\" >Total Purchase Value</th>    </tr>    <tr>        <th class=\"index_name level0\" >Item ID</th>        <th class=\"index_name level1\" >Item Name</th>        <th class=\"blank\" ></th>        <th class=\"blank\" ></th>        <th class=\"blank\" ></th>    </tr></thead><tbody>\n",
       "                <tr>\n",
       "                        <th id=\"T_61a8df02_72de_11ea_8a29_04ed339101b2level0_row0\" class=\"row_heading level0 row0\" >178</th>\n",
       "                        <th id=\"T_61a8df02_72de_11ea_8a29_04ed339101b2level1_row0\" class=\"row_heading level1 row0\" >Oathbreaker, Last Hope of the Breaking Storm</th>\n",
       "                        <td id=\"T_61a8df02_72de_11ea_8a29_04ed339101b2row0_col0\" class=\"data row0 col0\" >12</td>\n",
       "                        <td id=\"T_61a8df02_72de_11ea_8a29_04ed339101b2row0_col1\" class=\"data row0 col1\" >$4.23</td>\n",
       "                        <td id=\"T_61a8df02_72de_11ea_8a29_04ed339101b2row0_col2\" class=\"data row0 col2\" >$50.76</td>\n",
       "            </tr>\n",
       "            <tr>\n",
       "                        <th id=\"T_61a8df02_72de_11ea_8a29_04ed339101b2level0_row1\" class=\"row_heading level0 row1\" >145</th>\n",
       "                        <th id=\"T_61a8df02_72de_11ea_8a29_04ed339101b2level1_row1\" class=\"row_heading level1 row1\" >Fiery Glass Crusader</th>\n",
       "                        <td id=\"T_61a8df02_72de_11ea_8a29_04ed339101b2row1_col0\" class=\"data row1 col0\" >9</td>\n",
       "                        <td id=\"T_61a8df02_72de_11ea_8a29_04ed339101b2row1_col1\" class=\"data row1 col1\" >$4.58</td>\n",
       "                        <td id=\"T_61a8df02_72de_11ea_8a29_04ed339101b2row1_col2\" class=\"data row1 col2\" >$41.22</td>\n",
       "            </tr>\n",
       "            <tr>\n",
       "                        <th id=\"T_61a8df02_72de_11ea_8a29_04ed339101b2level0_row2\" class=\"row_heading level0 row2\" >108</th>\n",
       "                        <th id=\"T_61a8df02_72de_11ea_8a29_04ed339101b2level1_row2\" class=\"row_heading level1 row2\" >Extraction, Quickblade Of Trembling Hands</th>\n",
       "                        <td id=\"T_61a8df02_72de_11ea_8a29_04ed339101b2row2_col0\" class=\"data row2 col0\" >9</td>\n",
       "                        <td id=\"T_61a8df02_72de_11ea_8a29_04ed339101b2row2_col1\" class=\"data row2 col1\" >$3.53</td>\n",
       "                        <td id=\"T_61a8df02_72de_11ea_8a29_04ed339101b2row2_col2\" class=\"data row2 col2\" >$31.77</td>\n",
       "            </tr>\n",
       "            <tr>\n",
       "                        <th id=\"T_61a8df02_72de_11ea_8a29_04ed339101b2level0_row3\" class=\"row_heading level0 row3\" >82</th>\n",
       "                        <th id=\"T_61a8df02_72de_11ea_8a29_04ed339101b2level1_row3\" class=\"row_heading level1 row3\" >Nirvana</th>\n",
       "                        <td id=\"T_61a8df02_72de_11ea_8a29_04ed339101b2row3_col0\" class=\"data row3 col0\" >9</td>\n",
       "                        <td id=\"T_61a8df02_72de_11ea_8a29_04ed339101b2row3_col1\" class=\"data row3 col1\" >$4.90</td>\n",
       "                        <td id=\"T_61a8df02_72de_11ea_8a29_04ed339101b2row3_col2\" class=\"data row3 col2\" >$44.10</td>\n",
       "            </tr>\n",
       "            <tr>\n",
       "                        <th id=\"T_61a8df02_72de_11ea_8a29_04ed339101b2level0_row4\" class=\"row_heading level0 row4\" >19</th>\n",
       "                        <th id=\"T_61a8df02_72de_11ea_8a29_04ed339101b2level1_row4\" class=\"row_heading level1 row4\" >Pursuit, Cudgel of Necromancy</th>\n",
       "                        <td id=\"T_61a8df02_72de_11ea_8a29_04ed339101b2row4_col0\" class=\"data row4 col0\" >8</td>\n",
       "                        <td id=\"T_61a8df02_72de_11ea_8a29_04ed339101b2row4_col1\" class=\"data row4 col1\" >$1.02</td>\n",
       "                        <td id=\"T_61a8df02_72de_11ea_8a29_04ed339101b2row4_col2\" class=\"data row4 col2\" >$8.16</td>\n",
       "            </tr>\n",
       "            <tr>\n",
       "                        <th id=\"T_61a8df02_72de_11ea_8a29_04ed339101b2level0_row5\" class=\"row_heading level0 row5\" >103</th>\n",
       "                        <th id=\"T_61a8df02_72de_11ea_8a29_04ed339101b2level1_row5\" class=\"row_heading level1 row5\" >Singed Scalpel</th>\n",
       "                        <td id=\"T_61a8df02_72de_11ea_8a29_04ed339101b2row5_col0\" class=\"data row5 col0\" >8</td>\n",
       "                        <td id=\"T_61a8df02_72de_11ea_8a29_04ed339101b2row5_col1\" class=\"data row5 col1\" >$4.35</td>\n",
       "                        <td id=\"T_61a8df02_72de_11ea_8a29_04ed339101b2row5_col2\" class=\"data row5 col2\" >$34.80</td>\n",
       "            </tr>\n",
       "            <tr>\n",
       "                        <th id=\"T_61a8df02_72de_11ea_8a29_04ed339101b2level0_row6\" class=\"row_heading level0 row6\" >75</th>\n",
       "                        <th id=\"T_61a8df02_72de_11ea_8a29_04ed339101b2level1_row6\" class=\"row_heading level1 row6\" >Brutality Ivory Warmace</th>\n",
       "                        <td id=\"T_61a8df02_72de_11ea_8a29_04ed339101b2row6_col0\" class=\"data row6 col0\" >8</td>\n",
       "                        <td id=\"T_61a8df02_72de_11ea_8a29_04ed339101b2row6_col1\" class=\"data row6 col1\" >$2.42</td>\n",
       "                        <td id=\"T_61a8df02_72de_11ea_8a29_04ed339101b2row6_col2\" class=\"data row6 col2\" >$19.36</td>\n",
       "            </tr>\n",
       "            <tr>\n",
       "                        <th id=\"T_61a8df02_72de_11ea_8a29_04ed339101b2level0_row7\" class=\"row_heading level0 row7\" >72</th>\n",
       "                        <th id=\"T_61a8df02_72de_11ea_8a29_04ed339101b2level1_row7\" class=\"row_heading level1 row7\" >Winter's Bite</th>\n",
       "                        <td id=\"T_61a8df02_72de_11ea_8a29_04ed339101b2row7_col0\" class=\"data row7 col0\" >8</td>\n",
       "                        <td id=\"T_61a8df02_72de_11ea_8a29_04ed339101b2row7_col1\" class=\"data row7 col1\" >$3.77</td>\n",
       "                        <td id=\"T_61a8df02_72de_11ea_8a29_04ed339101b2row7_col2\" class=\"data row7 col2\" >$30.16</td>\n",
       "            </tr>\n",
       "            <tr>\n",
       "                        <th id=\"T_61a8df02_72de_11ea_8a29_04ed339101b2level0_row8\" class=\"row_heading level0 row8\" >60</th>\n",
       "                        <th id=\"T_61a8df02_72de_11ea_8a29_04ed339101b2level1_row8\" class=\"row_heading level1 row8\" >Wolf</th>\n",
       "                        <td id=\"T_61a8df02_72de_11ea_8a29_04ed339101b2row8_col0\" class=\"data row8 col0\" >8</td>\n",
       "                        <td id=\"T_61a8df02_72de_11ea_8a29_04ed339101b2row8_col1\" class=\"data row8 col1\" >$3.54</td>\n",
       "                        <td id=\"T_61a8df02_72de_11ea_8a29_04ed339101b2row8_col2\" class=\"data row8 col2\" >$28.32</td>\n",
       "            </tr>\n",
       "            <tr>\n",
       "                        <th id=\"T_61a8df02_72de_11ea_8a29_04ed339101b2level0_row9\" class=\"row_heading level0 row9\" >59</th>\n",
       "                        <th id=\"T_61a8df02_72de_11ea_8a29_04ed339101b2level1_row9\" class=\"row_heading level1 row9\" >Lightning, Etcher of the King</th>\n",
       "                        <td id=\"T_61a8df02_72de_11ea_8a29_04ed339101b2row9_col0\" class=\"data row9 col0\" >8</td>\n",
       "                        <td id=\"T_61a8df02_72de_11ea_8a29_04ed339101b2row9_col1\" class=\"data row9 col1\" >$4.23</td>\n",
       "                        <td id=\"T_61a8df02_72de_11ea_8a29_04ed339101b2row9_col2\" class=\"data row9 col2\" >$33.84</td>\n",
       "            </tr>\n",
       "            <tr>\n",
       "                        <th id=\"T_61a8df02_72de_11ea_8a29_04ed339101b2level0_row10\" class=\"row_heading level0 row10\" >37</th>\n",
       "                        <th id=\"T_61a8df02_72de_11ea_8a29_04ed339101b2level1_row10\" class=\"row_heading level1 row10\" >Shadow Strike, Glory of Ending Hope</th>\n",
       "                        <td id=\"T_61a8df02_72de_11ea_8a29_04ed339101b2row10_col0\" class=\"data row10 col0\" >8</td>\n",
       "                        <td id=\"T_61a8df02_72de_11ea_8a29_04ed339101b2row10_col1\" class=\"data row10 col1\" >$3.16</td>\n",
       "                        <td id=\"T_61a8df02_72de_11ea_8a29_04ed339101b2row10_col2\" class=\"data row10 col2\" >$25.28</td>\n",
       "            </tr>\n",
       "            <tr>\n",
       "                        <th id=\"T_61a8df02_72de_11ea_8a29_04ed339101b2level0_row11\" class=\"row_heading level0 row11\" >34</th>\n",
       "                        <th id=\"T_61a8df02_72de_11ea_8a29_04ed339101b2level1_row11\" class=\"row_heading level1 row11\" >Retribution Axe</th>\n",
       "                        <td id=\"T_61a8df02_72de_11ea_8a29_04ed339101b2row11_col0\" class=\"data row11 col0\" >8</td>\n",
       "                        <td id=\"T_61a8df02_72de_11ea_8a29_04ed339101b2row11_col1\" class=\"data row11 col1\" >$2.22</td>\n",
       "                        <td id=\"T_61a8df02_72de_11ea_8a29_04ed339101b2row11_col2\" class=\"data row11 col2\" >$17.76</td>\n",
       "            </tr>\n",
       "            <tr>\n",
       "                        <th id=\"T_61a8df02_72de_11ea_8a29_04ed339101b2level0_row12\" class=\"row_heading level0 row12\" >92</th>\n",
       "                        <th id=\"T_61a8df02_72de_11ea_8a29_04ed339101b2level1_row12\" class=\"row_heading level1 row12\" >Final Critic</th>\n",
       "                        <td id=\"T_61a8df02_72de_11ea_8a29_04ed339101b2row12_col0\" class=\"data row12 col0\" >8</td>\n",
       "                        <td id=\"T_61a8df02_72de_11ea_8a29_04ed339101b2row12_col1\" class=\"data row12 col1\" >$4.88</td>\n",
       "                        <td id=\"T_61a8df02_72de_11ea_8a29_04ed339101b2row12_col2\" class=\"data row12 col2\" >$39.04</td>\n",
       "            </tr>\n",
       "            <tr>\n",
       "                        <th id=\"T_61a8df02_72de_11ea_8a29_04ed339101b2level0_row13\" class=\"row_heading level0 row13\" >53</th>\n",
       "                        <th id=\"T_61a8df02_72de_11ea_8a29_04ed339101b2level1_row13\" class=\"row_heading level1 row13\" >Vengeance Cleaver</th>\n",
       "                        <td id=\"T_61a8df02_72de_11ea_8a29_04ed339101b2row13_col0\" class=\"data row13 col0\" >7</td>\n",
       "                        <td id=\"T_61a8df02_72de_11ea_8a29_04ed339101b2row13_col1\" class=\"data row13 col1\" >$2.05</td>\n",
       "                        <td id=\"T_61a8df02_72de_11ea_8a29_04ed339101b2row13_col2\" class=\"data row13 col2\" >$14.35</td>\n",
       "            </tr>\n",
       "            <tr>\n",
       "                        <th id=\"T_61a8df02_72de_11ea_8a29_04ed339101b2level0_row14\" class=\"row_heading level0 row14\" >110</th>\n",
       "                        <th id=\"T_61a8df02_72de_11ea_8a29_04ed339101b2level1_row14\" class=\"row_heading level1 row14\" >Suspension</th>\n",
       "                        <td id=\"T_61a8df02_72de_11ea_8a29_04ed339101b2row14_col0\" class=\"data row14 col0\" >7</td>\n",
       "                        <td id=\"T_61a8df02_72de_11ea_8a29_04ed339101b2row14_col1\" class=\"data row14 col1\" >$1.44</td>\n",
       "                        <td id=\"T_61a8df02_72de_11ea_8a29_04ed339101b2row14_col2\" class=\"data row14 col2\" >$10.08</td>\n",
       "            </tr>\n",
       "    </tbody></table>"
      ],
      "text/plain": [
       "<pandas.io.formats.style.Styler at 0x1bf9c24e648>"
      ]
     },
     "execution_count": 32,
     "metadata": {},
     "output_type": "execute_result"
    }
   ],
   "source": [
    "# Create new data frame with items related information \n",
    "items = purchase_data[[\"Item ID\", \"Item Name\", \"Price\"]]\n",
    "\n",
    "# Group the item data by item id and item name \n",
    "item_stats = items.groupby([\"Item ID\",\"Item Name\"])\n",
    "\n",
    "# Count the number of times an item has been purchased \n",
    "purchase_count_item = item_stats[\"Price\"].count()\n",
    "\n",
    "# Calcualte the purchase value per item \n",
    "purchase_value = (item_stats[\"Price\"].sum()) \n",
    "\n",
    "# Find individual item price\n",
    "item_price = purchase_value/purchase_count_item\n",
    "\n",
    "# Create data frame with obtained values\n",
    "most_popular_items = pd.DataFrame({\"Purchase Count\": purchase_count_item, \n",
    "                                   \"Item Price\": item_price,\n",
    "                                   \"Total Purchase Value\":purchase_value})\n",
    "\n",
    "# Sort in descending order to obtain top spender names and provide top 5 item names\n",
    "popular_formatted = most_popular_items.sort_values([\"Purchase Count\"], ascending=False).head(15)\n",
    "\n",
    "# Format with currency style\n",
    "popular_formatted.style.format({\"Item Price\":\"${:,.2f}\",\n",
    "                                \"Total Purchase Value\":\"${:,.2f}\"})"
   ]
  },
  {
   "cell_type": "markdown",
   "metadata": {},
   "source": [
    "## Most Profitable Items"
   ]
  },
  {
   "cell_type": "markdown",
   "metadata": {},
   "source": [
    "* Sort the above table by total purchase value in descending order\n",
    "\n",
    "\n",
    "* Optional: give the displayed data cleaner formatting\n",
    "\n",
    "\n",
    "* Display a preview of the data frame\n",
    "\n"
   ]
  },
  {
   "cell_type": "code",
   "execution_count": 35,
   "metadata": {
    "scrolled": true
   },
   "outputs": [
    {
     "data": {
      "text/html": [
       "<style  type=\"text/css\" >\n",
       "</style><table id=\"T_8e18a8b4_72de_11ea_b560_04ed339101b2\" ><thead>    <tr>        <th class=\"blank\" ></th>        <th class=\"blank level0\" ></th>        <th class=\"col_heading level0 col0\" >Purchase Count</th>        <th class=\"col_heading level0 col1\" >Item Price</th>        <th class=\"col_heading level0 col2\" >Total Purchase Value</th>    </tr>    <tr>        <th class=\"index_name level0\" >Item ID</th>        <th class=\"index_name level1\" >Item Name</th>        <th class=\"blank\" ></th>        <th class=\"blank\" ></th>        <th class=\"blank\" ></th>    </tr></thead><tbody>\n",
       "                <tr>\n",
       "                        <th id=\"T_8e18a8b4_72de_11ea_b560_04ed339101b2level0_row0\" class=\"row_heading level0 row0\" >178</th>\n",
       "                        <th id=\"T_8e18a8b4_72de_11ea_b560_04ed339101b2level1_row0\" class=\"row_heading level1 row0\" >Oathbreaker, Last Hope of the Breaking Storm</th>\n",
       "                        <td id=\"T_8e18a8b4_72de_11ea_b560_04ed339101b2row0_col0\" class=\"data row0 col0\" >12</td>\n",
       "                        <td id=\"T_8e18a8b4_72de_11ea_b560_04ed339101b2row0_col1\" class=\"data row0 col1\" >$4.23</td>\n",
       "                        <td id=\"T_8e18a8b4_72de_11ea_b560_04ed339101b2row0_col2\" class=\"data row0 col2\" >$50.76</td>\n",
       "            </tr>\n",
       "            <tr>\n",
       "                        <th id=\"T_8e18a8b4_72de_11ea_b560_04ed339101b2level0_row1\" class=\"row_heading level0 row1\" >82</th>\n",
       "                        <th id=\"T_8e18a8b4_72de_11ea_b560_04ed339101b2level1_row1\" class=\"row_heading level1 row1\" >Nirvana</th>\n",
       "                        <td id=\"T_8e18a8b4_72de_11ea_b560_04ed339101b2row1_col0\" class=\"data row1 col0\" >9</td>\n",
       "                        <td id=\"T_8e18a8b4_72de_11ea_b560_04ed339101b2row1_col1\" class=\"data row1 col1\" >$4.90</td>\n",
       "                        <td id=\"T_8e18a8b4_72de_11ea_b560_04ed339101b2row1_col2\" class=\"data row1 col2\" >$44.10</td>\n",
       "            </tr>\n",
       "            <tr>\n",
       "                        <th id=\"T_8e18a8b4_72de_11ea_b560_04ed339101b2level0_row2\" class=\"row_heading level0 row2\" >145</th>\n",
       "                        <th id=\"T_8e18a8b4_72de_11ea_b560_04ed339101b2level1_row2\" class=\"row_heading level1 row2\" >Fiery Glass Crusader</th>\n",
       "                        <td id=\"T_8e18a8b4_72de_11ea_b560_04ed339101b2row2_col0\" class=\"data row2 col0\" >9</td>\n",
       "                        <td id=\"T_8e18a8b4_72de_11ea_b560_04ed339101b2row2_col1\" class=\"data row2 col1\" >$4.58</td>\n",
       "                        <td id=\"T_8e18a8b4_72de_11ea_b560_04ed339101b2row2_col2\" class=\"data row2 col2\" >$41.22</td>\n",
       "            </tr>\n",
       "            <tr>\n",
       "                        <th id=\"T_8e18a8b4_72de_11ea_b560_04ed339101b2level0_row3\" class=\"row_heading level0 row3\" >92</th>\n",
       "                        <th id=\"T_8e18a8b4_72de_11ea_b560_04ed339101b2level1_row3\" class=\"row_heading level1 row3\" >Final Critic</th>\n",
       "                        <td id=\"T_8e18a8b4_72de_11ea_b560_04ed339101b2row3_col0\" class=\"data row3 col0\" >8</td>\n",
       "                        <td id=\"T_8e18a8b4_72de_11ea_b560_04ed339101b2row3_col1\" class=\"data row3 col1\" >$4.88</td>\n",
       "                        <td id=\"T_8e18a8b4_72de_11ea_b560_04ed339101b2row3_col2\" class=\"data row3 col2\" >$39.04</td>\n",
       "            </tr>\n",
       "            <tr>\n",
       "                        <th id=\"T_8e18a8b4_72de_11ea_b560_04ed339101b2level0_row4\" class=\"row_heading level0 row4\" >103</th>\n",
       "                        <th id=\"T_8e18a8b4_72de_11ea_b560_04ed339101b2level1_row4\" class=\"row_heading level1 row4\" >Singed Scalpel</th>\n",
       "                        <td id=\"T_8e18a8b4_72de_11ea_b560_04ed339101b2row4_col0\" class=\"data row4 col0\" >8</td>\n",
       "                        <td id=\"T_8e18a8b4_72de_11ea_b560_04ed339101b2row4_col1\" class=\"data row4 col1\" >$4.35</td>\n",
       "                        <td id=\"T_8e18a8b4_72de_11ea_b560_04ed339101b2row4_col2\" class=\"data row4 col2\" >$34.80</td>\n",
       "            </tr>\n",
       "            <tr>\n",
       "                        <th id=\"T_8e18a8b4_72de_11ea_b560_04ed339101b2level0_row5\" class=\"row_heading level0 row5\" >59</th>\n",
       "                        <th id=\"T_8e18a8b4_72de_11ea_b560_04ed339101b2level1_row5\" class=\"row_heading level1 row5\" >Lightning, Etcher of the King</th>\n",
       "                        <td id=\"T_8e18a8b4_72de_11ea_b560_04ed339101b2row5_col0\" class=\"data row5 col0\" >8</td>\n",
       "                        <td id=\"T_8e18a8b4_72de_11ea_b560_04ed339101b2row5_col1\" class=\"data row5 col1\" >$4.23</td>\n",
       "                        <td id=\"T_8e18a8b4_72de_11ea_b560_04ed339101b2row5_col2\" class=\"data row5 col2\" >$33.84</td>\n",
       "            </tr>\n",
       "            <tr>\n",
       "                        <th id=\"T_8e18a8b4_72de_11ea_b560_04ed339101b2level0_row6\" class=\"row_heading level0 row6\" >108</th>\n",
       "                        <th id=\"T_8e18a8b4_72de_11ea_b560_04ed339101b2level1_row6\" class=\"row_heading level1 row6\" >Extraction, Quickblade Of Trembling Hands</th>\n",
       "                        <td id=\"T_8e18a8b4_72de_11ea_b560_04ed339101b2row6_col0\" class=\"data row6 col0\" >9</td>\n",
       "                        <td id=\"T_8e18a8b4_72de_11ea_b560_04ed339101b2row6_col1\" class=\"data row6 col1\" >$3.53</td>\n",
       "                        <td id=\"T_8e18a8b4_72de_11ea_b560_04ed339101b2row6_col2\" class=\"data row6 col2\" >$31.77</td>\n",
       "            </tr>\n",
       "            <tr>\n",
       "                        <th id=\"T_8e18a8b4_72de_11ea_b560_04ed339101b2level0_row7\" class=\"row_heading level0 row7\" >78</th>\n",
       "                        <th id=\"T_8e18a8b4_72de_11ea_b560_04ed339101b2level1_row7\" class=\"row_heading level1 row7\" >Glimmer, Ender of the Moon</th>\n",
       "                        <td id=\"T_8e18a8b4_72de_11ea_b560_04ed339101b2row7_col0\" class=\"data row7 col0\" >7</td>\n",
       "                        <td id=\"T_8e18a8b4_72de_11ea_b560_04ed339101b2row7_col1\" class=\"data row7 col1\" >$4.40</td>\n",
       "                        <td id=\"T_8e18a8b4_72de_11ea_b560_04ed339101b2row7_col2\" class=\"data row7 col2\" >$30.80</td>\n",
       "            </tr>\n",
       "            <tr>\n",
       "                        <th id=\"T_8e18a8b4_72de_11ea_b560_04ed339101b2level0_row8\" class=\"row_heading level0 row8\" >72</th>\n",
       "                        <th id=\"T_8e18a8b4_72de_11ea_b560_04ed339101b2level1_row8\" class=\"row_heading level1 row8\" >Winter's Bite</th>\n",
       "                        <td id=\"T_8e18a8b4_72de_11ea_b560_04ed339101b2row8_col0\" class=\"data row8 col0\" >8</td>\n",
       "                        <td id=\"T_8e18a8b4_72de_11ea_b560_04ed339101b2row8_col1\" class=\"data row8 col1\" >$3.77</td>\n",
       "                        <td id=\"T_8e18a8b4_72de_11ea_b560_04ed339101b2row8_col2\" class=\"data row8 col2\" >$30.16</td>\n",
       "            </tr>\n",
       "            <tr>\n",
       "                        <th id=\"T_8e18a8b4_72de_11ea_b560_04ed339101b2level0_row9\" class=\"row_heading level0 row9\" >60</th>\n",
       "                        <th id=\"T_8e18a8b4_72de_11ea_b560_04ed339101b2level1_row9\" class=\"row_heading level1 row9\" >Wolf</th>\n",
       "                        <td id=\"T_8e18a8b4_72de_11ea_b560_04ed339101b2row9_col0\" class=\"data row9 col0\" >8</td>\n",
       "                        <td id=\"T_8e18a8b4_72de_11ea_b560_04ed339101b2row9_col1\" class=\"data row9 col1\" >$3.54</td>\n",
       "                        <td id=\"T_8e18a8b4_72de_11ea_b560_04ed339101b2row9_col2\" class=\"data row9 col2\" >$28.32</td>\n",
       "            </tr>\n",
       "            <tr>\n",
       "                        <th id=\"T_8e18a8b4_72de_11ea_b560_04ed339101b2level0_row10\" class=\"row_heading level0 row10\" >179</th>\n",
       "                        <th id=\"T_8e18a8b4_72de_11ea_b560_04ed339101b2level1_row10\" class=\"row_heading level1 row10\" >Wolf, Promise of the Moonwalker</th>\n",
       "                        <td id=\"T_8e18a8b4_72de_11ea_b560_04ed339101b2row10_col0\" class=\"data row10 col0\" >6</td>\n",
       "                        <td id=\"T_8e18a8b4_72de_11ea_b560_04ed339101b2row10_col1\" class=\"data row10 col1\" >$4.48</td>\n",
       "                        <td id=\"T_8e18a8b4_72de_11ea_b560_04ed339101b2row10_col2\" class=\"data row10 col2\" >$26.88</td>\n",
       "            </tr>\n",
       "            <tr>\n",
       "                        <th id=\"T_8e18a8b4_72de_11ea_b560_04ed339101b2level0_row11\" class=\"row_heading level0 row11\" >160</th>\n",
       "                        <th id=\"T_8e18a8b4_72de_11ea_b560_04ed339101b2level1_row11\" class=\"row_heading level1 row11\" >Azurewrath</th>\n",
       "                        <td id=\"T_8e18a8b4_72de_11ea_b560_04ed339101b2row11_col0\" class=\"data row11 col0\" >6</td>\n",
       "                        <td id=\"T_8e18a8b4_72de_11ea_b560_04ed339101b2row11_col1\" class=\"data row11 col1\" >$4.40</td>\n",
       "                        <td id=\"T_8e18a8b4_72de_11ea_b560_04ed339101b2row11_col2\" class=\"data row11 col2\" >$26.40</td>\n",
       "            </tr>\n",
       "    </tbody></table>"
      ],
      "text/plain": [
       "<pandas.io.formats.style.Styler at 0x1bf9a3891c8>"
      ]
     },
     "execution_count": 35,
     "metadata": {},
     "output_type": "execute_result"
    }
   ],
   "source": [
    "# Take the most_popular items data frame and change the sorting to find highest total purchase value\n",
    "popular_formatted = most_popular_items.sort_values([\"Total Purchase Value\"],\n",
    "                                                   ascending=False).head(12)\n",
    "# Format with currency style\n",
    "popular_formatted.style.format({\"Item Price\":\"${:,.2f}\",\n",
    "                                \"Total Purchase Value\":\"${:,.2f}\"})"
   ]
  }
 ],
 "metadata": {
  "anaconda-cloud": {},
  "kernel_info": {
   "name": "python3"
  },
  "kernelspec": {
   "display_name": "Python 3",
   "language": "python",
   "name": "python3"
  },
  "language_info": {
   "codemirror_mode": {
    "name": "ipython",
    "version": 3
   },
   "file_extension": ".py",
   "mimetype": "text/x-python",
   "name": "python",
   "nbconvert_exporter": "python",
   "pygments_lexer": "ipython3",
   "version": "3.7.6"
  },
  "latex_envs": {
   "LaTeX_envs_menu_present": true,
   "autoclose": false,
   "autocomplete": true,
   "bibliofile": "biblio.bib",
   "cite_by": "apalike",
   "current_citInitial": 1,
   "eqLabelWithNumbers": true,
   "eqNumInitial": 1,
   "hotkeys": {
    "equation": "Ctrl-E",
    "itemize": "Ctrl-I"
   },
   "labels_anchors": false,
   "latex_user_defs": false,
   "report_style_numbering": false,
   "user_envs_cfg": false
  },
  "nteract": {
   "version": "0.2.0"
  }
 },
 "nbformat": 4,
 "nbformat_minor": 2
}
